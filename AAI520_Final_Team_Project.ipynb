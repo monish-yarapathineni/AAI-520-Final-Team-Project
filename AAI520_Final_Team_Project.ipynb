{
  "nbformat": 4,
  "nbformat_minor": 0,
  "metadata": {
    "colab": {
      "provenance": []
    },
    "kernelspec": {
      "name": "python3",
      "display_name": "Python 3"
    },
    "language_info": {
      "name": "python"
    }
  },
  "cells": [
    {
      "cell_type": "markdown",
      "source": [
        "# 1. Configurations"
      ],
      "metadata": {
        "id": "b9hagDZSHYib"
      }
    },
    {
      "cell_type": "code",
      "execution_count": 12,
      "metadata": {
        "id": "8iNFZ3JBHV9V"
      },
      "outputs": [],
      "source": [
        "import os\n",
        "from dotenv import load_dotenv\n",
        "\n",
        "load_dotenv()\n",
        "\n",
        "# Get API key and fill below\n",
        "OPENAI_API_KEY=\"*\"\n",
        "NEWS_API_KEY=\"*\"\n"
      ]
    },
    {
      "cell_type": "code",
      "source": [
        "# memory.py\n",
        "import json, os\n",
        "from pathlib import Path\n",
        "\n",
        "MEMO_DIR = Path(\"data/memory\")\n",
        "MEMO_DIR.mkdir(parents=True, exist_ok=True)\n",
        "\n",
        "def load_notes(symbol: str):\n",
        "    p = MEMO_DIR / f\"{symbol.upper()}.json\"\n",
        "    if p.exists():\n",
        "        try:\n",
        "            return json.loads(p.read_text())\n",
        "        except Exception:\n",
        "            return {}\n",
        "    return {}\n",
        "\n",
        "def save_notes(symbol: str, notes: dict):\n",
        "    p = MEMO_DIR / f\"{symbol.upper()}.json\"\n",
        "    p.write_text(json.dumps(notes, indent=2))\n"
      ],
      "metadata": {
        "id": "96FR2ZmePRDq"
      },
      "execution_count": 32,
      "outputs": []
    },
    {
      "cell_type": "markdown",
      "source": [
        "# 2. Agents"
      ],
      "metadata": {
        "id": "5-2NeC4iHs6C"
      }
    },
    {
      "cell_type": "markdown",
      "source": [
        "## 2.1 Data Agent"
      ],
      "metadata": {
        "id": "NOnhm3DEKlm4"
      }
    },
    {
      "cell_type": "code",
      "source": [
        "import yfinance as yf\n",
        "import requests\n",
        "from datetime import datetime, timedelta\n",
        "from typing import Optional\n",
        "\n",
        "from langchain_openai import ChatOpenAI\n",
        "\n",
        "class DataAgent:\n",
        "    \"\"\"Data Agent : Collects data\"\"\"\n",
        "\n",
        "    def __init__(self, llm):\n",
        "        self.llm = llm\n",
        "\n",
        "    def collect_stock_data(self, symbol):\n",
        "        \"\"\"Get stock data from Yahoo Finance\"\"\"\n",
        "        try:\n",
        "            stock = yf.Ticker(symbol)\n",
        "            info = stock.info\n",
        "            hist = stock.history(period=\"5d\")\n",
        "\n",
        "            price = round(hist['Close'].iloc[-1], 2) if not hist.empty else 0\n",
        "            change = round(((hist['Close'].iloc[-1] / hist['Close'].iloc[0]) - 1) * 100, 2) if len(hist) > 1 else 0\n",
        "\n",
        "            data = {\n",
        "                \"symbol\": symbol,\n",
        "                \"price\": price,\n",
        "                \"change\": change,\n",
        "                \"volume\": int(hist['Volume'].iloc[-1]) if not hist.empty else 0,\n",
        "                \"pe_ratio\": round(info.get('trailingPE', 0), 2),\n",
        "                \"market_cap\": info.get('marketCap', 0)\n",
        "            }\n",
        "\n",
        "            # Self-reflection\n",
        "            missing = [k for k, v in data.items() if v == 0 or v == 'N/A']\n",
        "            if not missing:\n",
        "                reflection = \"✅ All data collected successfully\"\n",
        "            else:\n",
        "                reflection = f\"⚠️ Some data missing: {', '.join(missing[:3])}\"\n",
        "\n",
        "            data['reflection'] = reflection\n",
        "            return data\n",
        "\n",
        "        except:\n",
        "            return {\n",
        "                \"symbol\": symbol,\n",
        "                \"price\": 0,\n",
        "                \"change\": 0,\n",
        "                \"volume\": 0,\n",
        "                \"pe_ratio\": 0,\n",
        "                \"market_cap\": 0,\n",
        "                \"reflection\": \"❌ Error collecting data\"\n",
        "            }\n",
        "\n",
        "    # agents.py (replace DataAgent.collect_news)\n",
        "    def collect_news(self, symbol):\n",
        "        \"\"\"Get and process multiple news items with explicit prompt chaining.\"\"\"\n",
        "        # Ingest\n",
        "        articles = self.fetch_news_batch(symbol, n=5)\n",
        "\n",
        "        # Preprocess\n",
        "        cleaned = []\n",
        "        seen = set()\n",
        "        for a in articles:\n",
        "            t = (a or \"\").strip()\n",
        "            t = t.replace(\"\\n\", \" \").strip()\n",
        "            if t and t.lower() not in seen:\n",
        "                cleaned.append(t)\n",
        "                seen.add(t.lower())\n",
        "        if not cleaned:\n",
        "            cleaned = [f\"{symbol} reports strong quarterly earnings and positive outlook\"]\n",
        "\n",
        "        # Classify each\n",
        "        classifications = []\n",
        "        for t in cleaned:\n",
        "            cls = self.llm.invoke(f\"Classify sentiment of this headline as positive, negative, or neutral: {t}\").content\n",
        "            classifications.append(cls.strip())\n",
        "\n",
        "        # Extract key info per item\n",
        "        key_infos = []\n",
        "        for t in cleaned:\n",
        "            ki = self.llm.invoke(f\"Extract the single most important market-relevant fact from this headline: {t}\").content\n",
        "            key_infos.append(ki.strip())\n",
        "\n",
        "        # Summarize across items\n",
        "        joined = \"; \".join(key_infos[:5])\n",
        "        summary = self.llm.invoke(\n",
        "            f\"In one sentence, summarize the likely short-term market impact for {symbol} given: {joined}\"\n",
        "        ).content\n",
        "\n",
        "        # Aggregate sentiment (simple mode)\n",
        "        pos = sum(\"pos\" in c.lower() for c in classifications)\n",
        "        neg = sum(\"neg\" in c.lower() for c in classifications)\n",
        "        neu = len(classifications) - pos - neg\n",
        "        agg = \"positive\" if pos > max(neg, neu) else \"negative\" if neg > max(pos, neu) else \"neutral\"\n",
        "\n",
        "        return {\n",
        "            \"news\": cleaned[:5],\n",
        "            \"classification\": agg,\n",
        "            \"per_item_classifications\": classifications[:5],\n",
        "            \"key_info\": key_infos[:5],\n",
        "            \"summary\": summary,\n",
        "            \"news_count\": len(cleaned)\n",
        "        }\n",
        "\n",
        "    def fetch_news_batch(self, symbol, n=5):\n",
        "        \"\"\"Fetch up to n news titles from NewsAPI with basic fallback.\"\"\"\n",
        "        try:\n",
        "            url = \"https://newsapi.org/v2/everything\"\n",
        "            params = {\n",
        "                'q': symbol,\n",
        "                'from': (datetime.now() - timedelta(days=7)).strftime('%Y-%m-%d'),\n",
        "                'sortBy': 'relevancy',\n",
        "                'pageSize': max(1, min(n, 10)),\n",
        "                'apiKey': NEWS_API_KEY\n",
        "            }\n",
        "            r = requests.get(url, params=params, timeout=10)\n",
        "            if r.status_code == 200:\n",
        "                data = r.json()\n",
        "                return [a.get('title') for a in data.get('articles', []) if a.get('title')]\n",
        "        except Exception:\n",
        "            pass\n",
        "        # Fallbacks\n",
        "        return [\n",
        "            f\"{symbol} reports strong quarterly earnings and positive outlook\",\n",
        "            f\"{symbol} expands into new market amid sector tailwinds\",\n",
        "            f\"Analysts update price targets for {symbol}\",\n",
        "        ][:n]\n",
        "\n",
        "\n",
        "    def fetch_news(self, symbol):\n",
        "        \"\"\"Fetch news from NewsAPI\"\"\"\n",
        "        try:\n",
        "            url = \"https://newsapi.org/v2/everything\"\n",
        "            params = {\n",
        "                'q': symbol,\n",
        "                'from': (datetime.now() - timedelta(days=7)).strftime('%Y-%m-%d'),\n",
        "                'sortBy': 'relevancy',\n",
        "                'pageSize': 1,\n",
        "                'apiKey': NEWS_API_KEY\n",
        "            }\n",
        "            response = requests.get(url, params=params)\n",
        "            if response.status_code == 200:\n",
        "                data = response.json()\n",
        "                if data.get('articles'):\n",
        "                    return data['articles'][0].get('title', f\"{symbol} shows growth\")\n",
        "        except:\n",
        "            print(\"Error fetching news\")\n",
        "        return f\"{symbol} reports strong quarterly earnings and positive outlook\"\n",
        "        return {\"type\": \"technical\", \"signal\": signal, \"change\": change}\n",
        "\n",
        "\n",
        "\n"
      ],
      "metadata": {
        "id": "DW-hKXAjHzCw"
      },
      "execution_count": 2,
      "outputs": []
    },
    {
      "cell_type": "markdown",
      "source": [
        "This cell defines the **Data Agents** for a multi-agent investment research workflow.\n",
        "---\n",
        "\n",
        "### Key external dependencies\n",
        "\n",
        "* **Yahoo Finance** (`yfinance`) for price/volume/PE/market cap.\n",
        "* **NewsAPI** (`requests` + `NEWS_API_KEY`) for recent headlines.\n",
        "* **LLM** (`langchain_openai.ChatOpenAI`) for classification, extraction, summarization, recommendations, and critiques.\n",
        "* **Memory** (`memory.load_notes`, `memory.save_notes`) to persist “next-time” hints across runs.\n",
        "\n",
        "\n",
        "### `DataAgent`\n",
        "\n",
        "Collects raw market/news data and performs **prompt chaining** on news.\n",
        "\n",
        "* `collect_stock_data(symbol) → dict`\n",
        "\n",
        "  * Pulls 5-day history and `info` from Yahoo Finance.\n",
        "  * Computes:\n",
        "\n",
        "    * `price`: last close\n",
        "    * `change`: % change over last 5 trading days\n",
        "    * `volume`, `pe_ratio`, `market_cap`\n",
        "  * Adds a quick **self-check** string (`reflection`) highlighting missing fields.\n",
        "  * Returns a compact dict the rest of the pipeline can consume.\n",
        "\n",
        "* `collect_news(symbol) → dict`\n",
        "  Implements **Ingest → Preprocess → Classify → Extract → Summarize**:\n",
        "\n",
        "  1. **Ingest:** `fetch_news_batch()` pulls up to 5 recent headlines for `symbol`.\n",
        "  2. **Preprocess:** trims/dedupes headlines.\n",
        "  3. **Classify:** LLM labels each headline sentiment (positive/negative/neutral).\n",
        "  4. **Extract:** LLM pulls the single most market-relevant fact per headline.\n",
        "  5. **Summarize:** LLM summarizes short-term market impact across items.\n",
        "\n",
        "  * Returns per-item results plus an **aggregate sentiment** and one-line summary.\n",
        "\n",
        "* `fetch_news_batch(symbol, n=5)`\n",
        "  Calls NewsAPI (7-day window, relevance sort). Falls back to templated headlines if API fails/unavailable.\n",
        "\n",
        "* `fetch_news(symbol)`\n",
        "  Legacy one-article fetch (kept for compatibility). The new flow uses `fetch_news_batch()`.\n",
        "\n",
        "> **Why prompt chaining here?**\n",
        "> It makes the transformation explicit and gradable: raw headlines → cleaned → classified → key facts → synthesized market take.\n",
        "\n",
        "---\n",
        "\n",
        "### `fundamental_analysis(data) → dict`\n",
        "\n",
        "A minimal **routing target** that interprets valuation from **P/E** and adds helpful context:\n",
        "\n",
        "* Returns a dict like:\n",
        "\n",
        "  ```json\n",
        "  {\n",
        "    \"type\": \"fundamental\",\n",
        "    \"valuation\": \"Overvalued\",\n",
        "    \"pe_ratio\": 37.6,\n",
        "    \"market_cap\": ...,\n",
        "    \"recent_change_pct\": ...\n",
        "  }\n",
        "  ```\n",
        "\n",
        "This richer shape gives the evaluator/optimizer more to work with than just P/E."
      ],
      "metadata": {
        "id": "VUcC5WsCIAXI"
      }
    },
    {
      "cell_type": "markdown",
      "source": [
        "# 2.2 Analysis Agent"
      ],
      "metadata": {
        "id": "D_9-xAOLLhXp"
      }
    },
    {
      "cell_type": "code",
      "source": [
        "class AnalysisAgent:\n",
        "    \"\"\"Analysis Agent: Analyzes with routing\"\"\"\n",
        "\n",
        "    def __init__(self, llm):\n",
        "        self.llm = llm\n",
        "\n",
        "    # In agents.py, inside class AnalysisAgent\n",
        "    def evaluate(self, analysis: dict,\n",
        "    stock_data: Optional[dict] = None,\n",
        "    news_data: Optional[dict] = None,) -> str:\n",
        "        \"\"\"\n",
        "        Evaluates analysis quality (1–10) with concrete improvement tips.\n",
        "        Includes stock_data and news_data so feedback isn't only about P/E.\n",
        "        Returns: 'Score: X/10. Feedback: ...'\n",
        "        \"\"\"\n",
        "        try:\n",
        "            ctx = {\n",
        "                \"analysis\": analysis,\n",
        "                \"stock_data\": stock_data or {},\n",
        "                \"news_sentiment\": (news_data or {}).get(\"classification\", \"neutral\"),\n",
        "            }\n",
        "            prompt = f\"\"\"\n",
        "            Evaluate the following investment analysis for depth, reasoning, and use of evidence.\n",
        "            Rate 1–10 and provide 2–3 specific improvements.\n",
        "\n",
        "            Context:\n",
        "            {ctx}\n",
        "\n",
        "            Respond as:\n",
        "            'Score: X/10. Feedback: ...'\n",
        "            \"\"\"\n",
        "            return self.llm.invoke(prompt).content.strip()[:800]\n",
        "\n",
        "        except Exception as e:\n",
        "            return f\"Score: 0/10. Feedback: Evaluation failed — {e}\"\n",
        "\n",
        "\n",
        "\n",
        "    def refine(\n",
        "    self,\n",
        "    analysis: dict,\n",
        "    evaluation_feedback: str,\n",
        "    stock_data: Optional[dict] = None,\n",
        "    news_data: Optional[dict] = None,) -> dict:\n",
        "\n",
        "        \"\"\"\n",
        "        Produces an improved, enriched analysis dict (type, valuation, rationale, considerations).\n",
        "        Uses evaluation feedback + available stock/news context.\n",
        "        \"\"\"\n",
        "        try:\n",
        "            prompt = f\"\"\"\n",
        "            You are a buy-side analyst. Improve the analysis by incorporating concrete reasoning that\n",
        "            references the provided metrics and sentiment. Keep it concise but decision-useful.\n",
        "\n",
        "            Current analysis: {analysis}\n",
        "            Stock data: {stock_data}\n",
        "            News sentiment: {(news_data or {}).get(\"classification\", \"neutral\")}\n",
        "            Feedback: {evaluation_feedback}\n",
        "\n",
        "            Return a compact JSON-like dict with keys:\n",
        "            - type (same as input)\n",
        "            - valuation (same as or updated if warranted)\n",
        "            - rationale (2–3 sentences weaving in metrics/sentiment/peers)\n",
        "            - considerations (bullet-like short list: e.g., ['peer PE ~X', 'watch guidance', 'macro rates risk'])\n",
        "            \"\"\"\n",
        "            improved = self.llm.invoke(prompt).content.strip()[:1200]\n",
        "            # We keep the model's JSON-like text as-is to avoid brittle parsing.\n",
        "            return {\"refined_text\": improved}\n",
        "        except Exception as e:\n",
        "            return {\"refined_text\": f\"Refinement failed: {e}\"}\n",
        "\n",
        "\n",
        "    # agents.py (inside AnalysisAgent)\n",
        "    def analyze(self, stock_data, news_data):\n",
        "        # Decide route by content first\n",
        "        route = self._route_by_content(news_data, stock_data)\n",
        "        if route == \"earnings\":\n",
        "            analysis = self.earnings_analysis(stock_data, news_data)\n",
        "        elif route == \"macro\":\n",
        "            analysis = self.macro_sensitivity(stock_data, news_data)\n",
        "        elif route == \"sec\":\n",
        "            analysis = self.sec_filings_check(stock_data, news_data)\n",
        "        else:\n",
        "            # fallback: fundamental vs technical\n",
        "            if stock_data.get('pe_ratio', 0) > 0:\n",
        "                route = \"fundamental\"\n",
        "                analysis = self.fundamental_analysis(stock_data)\n",
        "            else:\n",
        "                route = \"technical\"\n",
        "                analysis = self.technical_analysis(stock_data)\n",
        "\n",
        "        analysis[\"news_sentiment\"] = news_data.get(\"classification\", \"neutral\")\n",
        "\n",
        "        # Evaluator → Optimizer loop\n",
        "        import re\n",
        "\n",
        "        evaluation = self.evaluate(analysis, stock_data, news_data)\n",
        "        m = re.search(r\"Score:\\s*(\\d{1,2})\\s*/\\s*10\", evaluation)\n",
        "        score = int(m.group(1)) if m else 0\n",
        "\n",
        "        optimized = analysis\n",
        "        if score < 8:\n",
        "            optimized = self.refine(analysis, evaluation, stock_data, news_data)\n",
        "\n",
        "        return {\n",
        "            \"routed_to\": route,\n",
        "            \"initial_analysis\": analysis,\n",
        "            \"optimized_analysis\": {\"evaluation\": evaluation, \"final\": optimized}\n",
        "        }\n",
        "\n",
        "    def _route_by_content(self, news_data, stock_data):\n",
        "        \"\"\"\n",
        "        Decide routing based on news content first (earnings/SEC/macro),\n",
        "        otherwise fall back to fundamentals/technicals using stock_data.\n",
        "        \"\"\"\n",
        "        # Normalize news into a single string\n",
        "        news = news_data.get(\"news\", \"\")\n",
        "        if isinstance(news, list):\n",
        "            news_text = \" \".join([str(x or \"\") for x in news])\n",
        "        else:\n",
        "            news_text = str(news or \"\")\n",
        "\n",
        "        key_infos = news_data.get(\"key_info\", [])\n",
        "        if isinstance(key_infos, list):\n",
        "            news_text += \" \" + \" \".join([str(x or \"\") for x in key_infos])\n",
        "        else:\n",
        "            news_text += \" \" + str(key_infos or \"\")\n",
        "\n",
        "        t = news_text.lower()\n",
        "\n",
        "        # Content-driven routing\n",
        "        if any(k in t for k in [\"earnings\", \"eps\", \"revenue\", \"guidance\"]):\n",
        "            return \"earnings\"\n",
        "        if any(k in t for k in [\"10-k\", \"10q\", \"8-k\", \"sec filing\", \"edgar\"]):\n",
        "            return \"sec\"\n",
        "        if any(k in t for k in [\"fed\", \"inflation\", \"cpi\", \"gdp\", \"macro\", \"rates\"]):\n",
        "            return \"macro\"\n",
        "\n",
        "        # Fallback: if content doesn’t suggest a specialist, let analyze() decide\n",
        "        return \"auto\"\n",
        "\n",
        "\n",
        "    def earnings_analysis(self, data, news):\n",
        "        # Simple skeletal analyzer—expand with actual EPS/Rev deltas if parsed\n",
        "        sentiment = news.get(\"classification\", \"neutral\")\n",
        "        return {\"type\": \"earnings\", \"stance\": f\"Earnings-driven view with {sentiment} tone\"}\n",
        "\n",
        "    def sec_filings_check(self, data, news):\n",
        "        return {\"type\": \"sec\", \"note\": \"SEC/EDGAR signals detected; consider reviewing latest 10-Q/8-K sections.\"}\n",
        "\n",
        "    def macro_sensitivity(self, data, news):\n",
        "        chg = data.get(\"change\", 0)\n",
        "        return {\"type\": \"macro\", \"beta_hint\": \"Potential macro sensitivity; monitor rates/newsflow\", \"recent_change\": chg}\n",
        "\n",
        "    # def refine(self, analysis, evaluation_feedback):\n",
        "    #     prompt = f\"\"\"You are a portfolio PM. Improve this analysis using the feedback.\n",
        "    #     Analysis: {analysis}\n",
        "    #     Feedback: {evaluation_feedback}\n",
        "    #     Return the improved analysis as a concise JSON-like dict with the same keys.\"\"\"\n",
        "    #     improved = self.llm.invoke(prompt).content[:800]\n",
        "    #     return {\"refined\": improved, \"based_on\": analysis}\n",
        "\n",
        "    def technical_analysis(self, data):\n",
        "        \"\"\"Technical analysis based on price movement\"\"\"\n",
        "        change = data.get('change', 0)\n",
        "\n",
        "        if change > 2:\n",
        "            signal = \"BUY - Positive momentum\"\n",
        "        elif change < -2:\n",
        "            signal = \"SELL - Negative momentum\"\n",
        "        else:\n",
        "            signal = \"HOLD - Neutral\"\n",
        "\n",
        "        return {\"type\": \"technical\", \"signal\": signal, \"change\": change}\n",
        "\n",
        "    def fundamental_analysis(self, data):\n",
        "        \"\"\"Fundamental analysis based on PE ratio\"\"\"\n",
        "\n",
        "        pe = data.get('pe_ratio', 0)\n",
        "        mc = data.get('market_cap', 0)\n",
        "        ch = data.get('change', 0)\n",
        "        if 0 < pe < 15: valuation = \"Undervalued\"\n",
        "        elif pe > 30:  valuation = \"Overvalued\"\n",
        "        else:          valuation = \"Fair value\"\n",
        "        return {\n",
        "            \"type\": \"fundamental\",\n",
        "            \"valuation\": valuation,\n",
        "            \"pe_ratio\": pe,\n",
        "            \"market_cap\": mc,\n",
        "            \"recent_change_pct\": ch\n",
        "        }\n",
        "\n",
        "\n",
        ""
      ],
      "metadata": {
        "id": "XTNfl6k0L6ad"
      },
      "execution_count": 3,
      "outputs": []
    },
    {
      "cell_type": "code",
      "source": [
        "res = AnalysisAgent(llm).analyze(stock_data, news_data)\n",
        "print(\"Route:\", res[\"routed_to\"])\n",
        "print(\"Initial:\", res[\"initial_analysis\"])\n",
        "print(\"Eval:\", res[\"optimized_analysis\"][\"evaluation\"])\n",
        "print(\"Refined:\", res[\"optimized_analysis\"][\"final\"].get(\"refined_text\", \"(no refinement)\"))\n"
      ],
      "metadata": {
        "id": "J_t0ZwiDOna2"
      },
      "execution_count": null,
      "outputs": []
    },
    {
      "cell_type": "markdown",
      "source": [
        "**`AnalysisAgent`** is the “reason + choose + improve” component of your multi-agent system:\n",
        "\n",
        "* **Routing:** `_route_by_content(...)` inspects news text (headlines + extracted key info) to decide which specialist analyzer to use first:\n",
        "\n",
        "  * `\"earnings\"` → `earnings_analysis`\n",
        "  * `\"sec\"` → `sec_filings_check`\n",
        "  * `\"macro\"` → `macro_sensitivity`\n",
        "  * otherwise it **falls back** to a fundamentals-vs-technicals choice (P/E present ⇒ `fundamental_analysis`, else `technical_analysis`).\n",
        "\n",
        "* **Specialist analyzers:**\n",
        "\n",
        "  * `fundamental_analysis(data)` produces a compact valuation view using **P/E**, **market cap**, and **recent % change**, e.g.:\n",
        "\n",
        "    ```json\n",
        "    {\"type\":\"fundamental\",\"valuation\":\"Overvalued\",\"pe_ratio\":37.6,\"market_cap\":..., \"recent_change_pct\":...}\n",
        "    ```\n",
        "  * `technical_analysis(data)` assigns a simple momentum signal (BUY/HOLD/SELL) from the 5-day % change.\n",
        "  * `earnings_analysis`, `sec_filings_check`, `macro_sensitivity` are lightweight placeholders that attach basic stance/notes—you can enrich these with parsed EPS/revenue surprises, 10-Q sections, or rate-sensitivity later.\n",
        "\n",
        "* **Evaluator → Optimizer loop (quality pass):**\n",
        "\n",
        "  * `evaluate(...)` sends a **contextual** prompt to the LLM with:\n",
        "\n",
        "    * the draft `analysis` dict,\n",
        "    * `stock_data` (price, change, volume, P/E, etc.),\n",
        "    * `news_data` (aggregate sentiment).\n",
        "      It returns a string like: **`\"Score: 6/10. Feedback: ...\"`**.\n",
        "  * In `analyze(...)`, a **regex** extracts the numeric score from that string (`Score: X/10`).\n",
        "    If the score is below threshold (`< 8`), the agent calls `refine(...)`.\n",
        "  * `refine(...)` asks the LLM to **improve** the analysis using the evaluation feedback **and** the available metrics/sentiment, and returns:\n",
        "\n",
        "    ```json\n",
        "    {\"refined_text\": \"<concise, decision-useful rationale with considerations>\"}\n",
        "    ```\n",
        "  * Finally, `analyze(...)` returns a bundle:\n",
        "\n",
        "    ```python\n",
        "    {\n",
        "      \"routed_to\": <route>,\n",
        "      \"initial_analysis\": <dict>,\n",
        "      \"optimized_analysis\": {\n",
        "        \"evaluation\": \"Score: X/10. Feedback: ...\",\n",
        "        \"final\": {\"refined_text\": \"...\"}  # if refinement ran\n",
        "      }\n",
        "    }\n",
        "    ```\n",
        "\n",
        "\n"
      ],
      "metadata": {
        "id": "2ODOHfT8Pgrc"
      }
    },
    {
      "cell_type": "markdown",
      "source": [
        "## 2.3 Report Agent"
      ],
      "metadata": {
        "id": "VOzECjpFPyLh"
      }
    },
    {
      "cell_type": "code",
      "source": [
        "class ReportAgent:\n",
        "    \"\"\"Report Agent: Creates report\"\"\"\n",
        "\n",
        "    def __init__(self, llm):\n",
        "        self.llm = llm\n",
        "\n",
        "    def create_report(self, symbol, stock_data, analysis, news_data):\n",
        "        \"\"\"Generate investment report\"\"\"\n",
        "        # Create report with consistent structure\n",
        "        report = {\n",
        "            \"symbol\": symbol,\n",
        "            \"date\": datetime.now().strftime(\"%Y-%m-%d\"),\n",
        "            \"summary\": self.create_summary(stock_data, analysis, news_data),\n",
        "            \"data_overview\": {\n",
        "                \"current_price\": f\"${stock_data.get('price', 0)}\",\n",
        "                \"change_percent\": f\"{stock_data.get('change', 0)}%\",\n",
        "                \"pe_ratio\": stock_data.get('pe_ratio', 'N/A'),\n",
        "                \"volume\": f\"{stock_data.get('volume', 0):,}\" if stock_data.get('volume') else \"0\"\n",
        "            },\n",
        "            \"recommendation\": self.create_recommendation(analysis, news_data),\n",
        "            \"risks\": self.identify_risks(symbol),\n",
        "        }\n",
        "        # Add quality score after creating report\n",
        "        report[\"quality_score\"] = self.self_evaluate(report)\n",
        "\n",
        "        return report\n",
        "\n",
        "    def create_summary(self, stock_data, analysis, news_data):\n",
        "        \"\"\"Create executive summary\"\"\"\n",
        "        prompt = f\"\"\"\n",
        "        Write 2-sentence summary for {stock_data.get('symbol')}:\n",
        "        Price change: {stock_data.get('change')}%\n",
        "        Analysis: {analysis.get('initial_analysis')}\n",
        "        News: {news_data.get('classification')}\n",
        "        \"\"\"\n",
        "        return self.llm.invoke(prompt).content\n",
        "\n",
        "    def create_recommendation(self, analysis, news_data):\n",
        "        \"\"\"Generate recommendation\"\"\"\n",
        "        analysis_detail = analysis.get('initial_analysis', {})\n",
        "        sentiment = news_data.get('classification', 'neutral')\n",
        "\n",
        "        prompt = f\"\"\"\n",
        "        Based on {analysis_detail} and news sentiment {sentiment},\n",
        "        give recommendation (BUY/HOLD/SELL) with one-line reason.\n",
        "        \"\"\"\n",
        "        return self.llm.invoke(prompt).content\n",
        "\n",
        "    def identify_risks(self, symbol):\n",
        "        \"\"\"Identify 2 risks\"\"\"\n",
        "        prompt = f\"List 2 main investment risks for {symbol} in one line each.\"\n",
        "        risks = self.llm.invoke(prompt).content.split('\\n')\n",
        "        return [r.strip() for r in risks[:2] if r.strip()]\n",
        "\n",
        "    def self_evaluate(self, report):\n",
        "        # keep your heuristic score...\n",
        "        score = 0\n",
        "        if report.get('summary') and len(report['summary']) > 50: score += 3\n",
        "        rec = (report.get('recommendation') or \"\")\n",
        "        if any(k in rec for k in (\"BUY\",\"SELL\",\"HOLD\")): score += 3\n",
        "        if report.get('risks') and len(report['risks']) >= 2: score += 2\n",
        "        if report.get('data_overview',{}).get('current_price') != '$0': score += 2\n",
        "        score = min(score, 10)\n",
        "\n",
        "        # Optional LLM critique to show evaluator transparency\n",
        "        critique = self.llm.invoke(\n",
        "            f\"Briefly critique this report (1–2 sentences) for completeness and evidence: {report}\"\n",
        "        ).content[:240]\n",
        "        report[\"critique\"] = critique\n",
        "        return score\n",
        "\n"
      ],
      "metadata": {
        "id": "KbzecCPNP2-M"
      },
      "execution_count": 18,
      "outputs": []
    },
    {
      "cell_type": "markdown",
      "source": [
        "### `ReportAgent` (report generation + self-reflection)\n",
        "\n",
        "`ReportAgent` turns the upstream outputs (stock data, analysis result, and news sentiment) into a **structured investment report** and then **self-evaluates** the report’s quality. This supports two rubric items:\n",
        "\n",
        "* **Agent Functions:** *Self-reflection to assess output quality* (`self_evaluate`)\n",
        "* **Workflow Patterns:** Completes the pipeline after routing/evaluation by producing a clear user-facing artifact (the report)\n",
        "\n",
        "#### Inputs\n",
        "\n",
        "* `symbol` *(str)* — ticker (e.g., `\"AAPL\"`)\n",
        "* `stock_data` *(dict)* — fields like `price`, `change`, `pe_ratio`, `volume`\n",
        "* `analysis` *(dict)* — contains `initial_analysis` (e.g., valuation/signal) and any optimizer output\n",
        "* `news_data` *(dict)* — includes aggregate sentiment classification\n",
        "\n",
        "#### What each method does\n",
        "\n",
        "* `create_report(symbol, stock_data, analysis, news_data) → dict`\n",
        "  Builds a consistent report object:\n",
        "\n",
        "  ```json\n",
        "  {\n",
        "    \"symbol\": \"...\",\n",
        "    \"date\": \"YYYY-MM-DD\",\n",
        "    \"summary\": \"...\",                    // LLM, 2 sentences\n",
        "    \"data_overview\": {                   // numeric snapshot\n",
        "      \"current_price\": \"$...\",\n",
        "      \"change_percent\": \"...%\",\n",
        "      \"pe_ratio\": ...,\n",
        "      \"volume\": \"...\"\n",
        "    },\n",
        "    \"recommendation\": \"BUY/HOLD/SELL ...\",   // LLM, 1-line rationale\n",
        "    \"risks\": [\"...\", \"...\"],                 // LLM, two concise risks\n",
        "    \"quality_score\": 0-10,                   // heuristic self-score (see below)\n",
        "    \"critique\": \"...\"                        // (optional) short LLM critique\n",
        "  }\n",
        "  ```\n",
        "* `create_summary(stock_data, analysis, news_data)`\n",
        "  Prompts the LLM for a **2-sentence** executive summary that references price change, the routed analysis, and news sentiment.\n",
        "* `create_recommendation(analysis, news_data)`\n",
        "  Prompts the LLM for a **BUY/HOLD/SELL** call with a **one-line reason**, grounded in the analysis details and sentiment.\n",
        "* `identify_risks(symbol)`\n",
        "  Prompts the LLM to list **two key risks** for the company (one line each).\n",
        "* `self_evaluate(report) → int`\n",
        "  A **heuristic quality check** (0–10) that rewards:\n",
        "\n",
        "  * Non-trivial summary (>50 chars) **+3**\n",
        "  * Explicit recommendation containing BUY/SELL/HOLD **+3**\n",
        "  * At least two risks **+2**\n",
        "  * Non-zero price in `data_overview` **+2**\n",
        "    It also adds a brief optional **LLM critique** (`report[\"critique\"]`) to increase transparency.\n",
        "\n",
        "#### Why this design\n",
        "\n",
        "* Keeps the report **deterministically structured** (easy to render/test) while letting the LLM handle **natural-language** parts.\n",
        "* The **self-evaluation** is an explicit “agent reflects on its own output” step, which the rubric requires (separate from the analysis evaluator/optimizer loop earlier in the pipeline).\n",
        "\n"
      ],
      "metadata": {
        "id": "YWAx-41OP5y6"
      }
    },
    {
      "cell_type": "markdown",
      "source": [
        "## 2.4 Orchestrator Agent"
      ],
      "metadata": {
        "id": "KLrZoJutTGNf"
      }
    },
    {
      "cell_type": "code",
      "source": [
        "class OrchestratorAgent:\n",
        "    \"\"\"Orchestrator Agent: Coordinates all other agents\"\"\"\n",
        "\n",
        "    def __init__(self, llm):\n",
        "        self.llm = llm\n",
        "        self.data_agent = DataAgent(llm)\n",
        "        self.analysis_agent = AnalysisAgent(llm)\n",
        "        self.report_agent = ReportAgent(llm)\n",
        "\n",
        "    # OrchestratorAgent\n",
        "    def plan_research(self, symbol):\n",
        "        prior = load_notes(symbol)\n",
        "        prior_hint = prior.get(\"next_time_focus\", \"Check EDGAR filings if earnings are near.\")\n",
        "        plan_prompt = f\"\"\"\n",
        "        Create a research plan for {symbol} with these steps:\n",
        "        1. What data to collect\n",
        "        2. What analysis to perform\n",
        "        3. What to include in report\n",
        "        Incorporate this prior note if useful: {prior_hint}\n",
        "        Return as numbered list.\n",
        "        \"\"\"\n",
        "        plan = self.llm.invoke(plan_prompt).content\n",
        "        return [line for line in plan.split('\\n') if line.strip()]\n",
        "\n",
        "\n",
        "    def execute_research(self, symbol):\n",
        "        \"\"\"Orchestrate the entire research process\"\"\"\n",
        "        # Plan the workflow\n",
        "        workflow_plan = self.plan_research(symbol)\n",
        "\n",
        "        # Execute data collection\n",
        "        stock_data = self.data_agent.collect_stock_data(symbol)\n",
        "\n",
        "        news_data = self.data_agent.collect_news(symbol)\n",
        "\n",
        "        # Perform analysis\n",
        "        analysis = self.analysis_agent.analyze(stock_data, news_data)\n",
        "\n",
        "        #  Generate report\n",
        "        report = self.report_agent.create_report(symbol, stock_data, analysis, news_data)\n",
        "\n",
        "        #  Self-reflect on entire workflow\n",
        "        reflection = self.reflect_on_workflow(workflow_plan, report)\n",
        "\n",
        "\n",
        "        # OrchestratorAgent.execute_research (end of method, before return)\n",
        "        improvement_prompt = f\"Given this report, suggest one short 'next_time_focus' note to improve the next analysis for {symbol}.\"\n",
        "        next_focus = self.llm.invoke(improvement_prompt).content.strip()[:500]\n",
        "        save_notes(symbol, {\"next_time_focus\": next_focus})\n",
        "\n",
        "        return {\n",
        "            \"plan\": workflow_plan,\n",
        "            \"stock_data\": stock_data,\n",
        "            \"news_data\": news_data,\n",
        "            \"analysis\": analysis,\n",
        "            \"report\": report,\n",
        "            \"reflection\": reflection,\n",
        "            \"memory\": {\"next_time_focus\": next_focus}\n",
        "        }\n",
        "\n",
        "    def reflect_on_workflow(self, plan, report):\n",
        "        \"\"\"Reflect on the entire workflow execution\"\"\"\n",
        "        prompt = f\"\"\"\n",
        "        Evaluate workflow execution:\n",
        "        Plan: {plan[:3]}\n",
        "        Report quality: {report.get('quality_score')}/10\n",
        "        What went well and what could improve?\n",
        "        \"\"\"\n",
        "        return self.llm.invoke(prompt).content[:200]"
      ],
      "metadata": {
        "id": "kGoPWmDGTL3v"
      },
      "execution_count": 30,
      "outputs": []
    },
    {
      "cell_type": "markdown",
      "source": [
        "\n",
        "### `OrchestratorAgent` (planner, coordinator, and memory)\n",
        "\n",
        "`OrchestratorAgent` is the **controller** that coordinates the entire multi-agent pipeline.\n",
        "It plans, sequences, and reflects on the end-to-end workflow—fulfilling the *“Plans its research steps,” “Uses tools dynamically,”* and *“Learns across runs”* agent-function rubric items.\n",
        "\n",
        "---\n",
        "\n",
        "#### Overall workflow the orchestrator runs\n",
        "\n",
        "```\n",
        "Plan → Collect data → Analyze → Generate report → Reflect → Learn\n",
        "```\n",
        "\n",
        "Each step is handled by specialized agents:\n",
        "\n",
        "* **DataAgent** → collects market & news data\n",
        "* **AnalysisAgent** → routes & evaluates analysis\n",
        "* **ReportAgent** → creates the final investment report\n",
        "* **OrchestratorAgent** → coordinates all of the above and stores short-term memory\n",
        "\n",
        "---\n",
        "\n",
        "#### Method-by-method breakdown\n",
        "\n",
        "* **`__init__(self, llm)`**\n",
        "  Initializes the orchestrator with a single shared LLM and constructs the three subordinate agents.\n",
        "\n",
        "---\n",
        "\n",
        "* **`plan_research(self, symbol)`**\n",
        "  Uses the LLM to *plan the workflow* for a given stock.\n",
        "  It loads a prior memory note from `memory.load_notes(symbol)`—for example,\n",
        "  “Next time, check EDGAR filings if earnings are near.”\n",
        "  Then it prompts the LLM to create a numbered research plan:\n",
        "\n",
        "  1. What data to collect\n",
        "\n",
        "  2. What analyses to run\n",
        "\n",
        "  3. What to include in the report\n",
        "     Returns the plan as a list of strings.\n",
        "\n",
        "  > **Purpose:** demonstrates the *planning* capability and “learns across runs” by reusing prior notes.\n",
        "\n",
        "---\n",
        "\n",
        "* **`execute_research(self, symbol)`**\n",
        "  This is the orchestrator’s **main entry point**—it automates the full pipeline:\n",
        "\n",
        "  1. **Plan:** generate `workflow_plan` (LLM-made numbered list).\n",
        "  2. **Collect:** call `DataAgent` to pull both stock and news data.\n",
        "  3. **Analyze:** send data to `AnalysisAgent` for routing, evaluation, and optimization.\n",
        "  4. **Report:** use `ReportAgent` to produce a structured investment report.\n",
        "  5. **Reflect:** call `reflect_on_workflow()` to self-assess how well the workflow executed.\n",
        "  6. **Learn:** prompt the LLM for a short “`next_time_focus`” note (e.g., *“Compare P/E to sector average next time”*) and persist it via `save_notes(symbol)`.\n",
        "\n",
        "  Returns a dictionary packaging **all intermediate artifacts** for downstream display or grading:\n",
        "\n",
        "  ```python\n",
        "  {\n",
        "    \"plan\": [...],\n",
        "    \"stock_data\": {...},\n",
        "    \"news_data\": {...},\n",
        "    \"analysis\": {...},\n",
        "    \"report\": {...},\n",
        "    \"reflection\": \"...\",\n",
        "    \"memory\": {\"next_time_focus\": \"...\"}\n",
        "  }\n",
        "  ```\n",
        "\n",
        "  > **Purpose:** shows autonomous orchestration and inter-agent communication—proof that your system can reason, act, and self-improve.\n",
        "\n",
        "---\n",
        "\n",
        "* **`reflect_on_workflow(self, plan, report)`**\n",
        "  Prompts the LLM to critique the workflow quality, referencing the first few plan steps and the final `report[\"quality_score\"]`.\n",
        "  Produces a concise 1-2 sentence reflection (e.g., *“Data collection was thorough but the analysis missed macro context.”*)\n",
        "\n",
        "  > **Purpose:** satisfies the rubric’s *self-reflection on execution* requirement.\n",
        "\n",
        "---\n",
        "\n",
        "#### Memory logic\n",
        "\n",
        "Uses two helper functions (from `memory.py`):\n",
        "\n",
        "* `load_notes(symbol)` → retrieves the last “next-time focus” note.\n",
        "* `save_notes(symbol, {\"next_time_focus\": ...})` → saves a new one at the end of the run.\n",
        "\n",
        "This lets the orchestrator **retain short-term memory** between runs so each future analysis can improve.\n",
        "\n",
        "---\n",
        "\n",
        "#### Why this design matters\n",
        "\n",
        "* **Planning agent:** demonstrates reasoning and step sequencing.\n",
        "* **Coordinator:** integrates three separate agents dynamically.\n",
        "* **Self-reflective learner:** adds a feedback loop (`reflect_on_workflow` + `next_time_focus`), showing continuous improvement.\n",
        "\n",
        "---\n",
        "\n",
        "#### Example usage\n",
        "\n",
        "```python\n",
        "orchestrator = OrchestratorAgent(llm)\n",
        "result = orchestrator.execute_research(\"AAPL\")\n",
        "print(result[\"plan\"])\n",
        "print(result[\"report\"][\"summary\"])\n",
        "print(\"Next-time focus:\", result[\"memory\"][\"next_time_focus\"])\n",
        "```\n",
        "\n",
        "This will output a full research plan, generated report summary, and a new “next-time focus” hint—illustrating a complete **agentic loop** from planning to learning.\n"
      ],
      "metadata": {
        "id": "1caLFeFqTbjI"
      }
    },
    {
      "cell_type": "markdown",
      "source": [
        "# 3. Stock Analyzer UI - with help of Streamlit"
      ],
      "metadata": {
        "id": "_d2ISYYjVS3j"
      }
    },
    {
      "cell_type": "code",
      "source": [
        "import streamlit as st\n",
        "from langchain_openai import ChatOpenAI\n",
        "\n",
        "# app.py (add near top)\n",
        "import yfinance as yf\n",
        "import pandas as pd\n",
        "import matplotlib.pyplot as plt\n",
        "\n",
        "def price_chart(symbol):\n",
        "    hist = yf.Ticker(symbol).history(period=\"6mo\")\n",
        "    if hist.empty:\n",
        "        st.info(\"No price data available.\")\n",
        "        return\n",
        "    fig, ax = plt.subplots()\n",
        "    hist[\"Close\"].plot(ax=ax)\n",
        "    ax.set_title(f\"{symbol} – 6M Close\")\n",
        "    ax.set_xlabel(\"Date\"); ax.set_ylabel(\"Price\")\n",
        "    st.pyplot(fig)\n",
        "\n",
        "\n",
        "# Page config\n",
        "st.set_page_config(page_title=\"Investment Research Agent\", page_icon=\"📈\")\n",
        "\n",
        "def main():\n",
        "    st.title(\"📈 Investment Research Agent\")\n",
        "\n",
        "    # Input\n",
        "    symbol = st.text_input(\"Enter Stock Symbol:\", value=\"AAPL\")\n",
        "\n",
        "    if st.button(\"Analyze\", type=\"primary\"):\n",
        "        if not symbol:\n",
        "            st.error(\"Please enter a stock symbol\")\n",
        "            return\n",
        "\n",
        "        try:\n",
        "            # Initialize agents\n",
        "            llm = ChatOpenAI(openai_api_key=OPENAI_API_KEY, model_name=\"gpt-4o-mini\", temperature=0)\n",
        "            data_agent = DataAgent(llm)\n",
        "            analysis_agent = AnalysisAgent(llm)\n",
        "            report_agent = ReportAgent(llm)\n",
        "\n",
        "            # Run workflow\n",
        "            with st.spinner(\"Collecting data...\"):\n",
        "                stock_data = data_agent.collect_stock_data(symbol)\n",
        "                news_data = data_agent.collect_news(symbol)\n",
        "\n",
        "            with st.spinner(\"Analyzing...\"):\n",
        "                analysis = analysis_agent.analyze(stock_data, news_data)\n",
        "\n",
        "            with st.spinner(\"Generating report...\"):\n",
        "                report = report_agent.create_report(symbol, stock_data, analysis, news_data)\n",
        "\n",
        "            # Display results\n",
        "            st.success(\"✅ Analysis Complete!\")\n",
        "\n",
        "            # Summary\n",
        "            st.subheader(\"Executive Summary\")\n",
        "            st.info(report['summary'])\n",
        "\n",
        "            # After \"Executive Summary\" block\n",
        "            st.subheader(\"Price Chart\")\n",
        "            price_chart(symbol)\n",
        "\n",
        "            # Show multi-article chain\n",
        "            st.subheader(\"News Chain (Ingest → Preprocess → Classify → Extract → Summarize)\")\n",
        "            st.write(f\"**Articles ({news_data['news_count']}):**\")\n",
        "            for i, t in enumerate(news_data[\"news\"], 1):\n",
        "                st.write(f\"{i}. {t}\")\n",
        "            st.write(\"**Per-item classifications:**\", news_data.get(\"per_item_classifications\", []))\n",
        "            st.write(\"**Key infos:**\", [k[:140] for k in news_data.get(\"key_info\", [])])\n",
        "            st.write(\"**Aggregate sentiment:**\", news_data[\"classification\"])\n",
        "            st.info(f\"**Summary:** {news_data['summary']}\")\n",
        "\n",
        "            # Routing + Eval/Optimize visibility\n",
        "            st.subheader(\"Routing & Evaluator–Optimizer\")\n",
        "            st.write(\"**Routed to:**\", analysis['routed_to'])\n",
        "            st.write(\"**Initial analysis:**\", analysis['initial_analysis'])\n",
        "            opt = analysis.get(\"optimized_analysis\", {})\n",
        "            st.write(\"Evaluation:\", opt.get(\"evaluation\", \"\"))\n",
        "\n",
        "            final_opt = opt.get(\"final\", {})\n",
        "            refined_text = final_opt.get(\"refined_text\") if isinstance(final_opt, dict) else None\n",
        "\n",
        "            if refined_text:\n",
        "                st.info(refined_text)   # show once, nicely\n",
        "            else:\n",
        "                st.json(final_opt)      # or st.write(...) if it’s plain text\n",
        "\n",
        "\n",
        "\n",
        "            # Show refined text when present\n",
        "            if isinstance(final_opt, dict) and \"refined_text\" in final_opt:\n",
        "                st.info(final_opt[\"refined_text\"])\n",
        "            else:\n",
        "                st.write(final_opt)\n",
        "\n",
        "\n",
        "            # Memory\n",
        "            if 'memory' in locals() or 'memory' in report:\n",
        "                pass  # orchestrator path returns memory; in this app you wire orchestrator later if you use it\n",
        "\n",
        "\n",
        "            # Three columns for main info\n",
        "            col1, col2, col3 = st.columns(3)\n",
        "\n",
        "            with col1:\n",
        "                st.metric(\"Price\", report['data_overview']['current_price'])\n",
        "                st.metric(\"Change\", report['data_overview']['change_percent'])\n",
        "                st.metric(\"P/E Ratio\", report['data_overview']['pe_ratio'])\n",
        "\n",
        "            with col2:\n",
        "                st.write(\"**Analysis Type:**\", analysis['routed_to'])\n",
        "                findings = analysis['initial_analysis']\n",
        "                if 'signal' in findings:\n",
        "                    st.write(\"**Signal:**\", findings['signal'])\n",
        "                if 'valuation' in findings:\n",
        "                    st.write(\"**Valuation:**\", findings['valuation'])\n",
        "\n",
        "            with col3:\n",
        "                st.write(\"**News Sentiment:**\", news_data['classification'])\n",
        "                st.write(\"**Articles Found:**\", news_data['news_count'])\n",
        "\n",
        "            # Recommendation\n",
        "            st.subheader(\"Recommendation\")\n",
        "            if 'BUY' in report['recommendation']:\n",
        "                st.success(report['recommendation'])\n",
        "            elif 'SELL' in report['recommendation']:\n",
        "                st.error(report['recommendation'])\n",
        "            else:\n",
        "                st.info(report['recommendation'])\n",
        "\n",
        "            # Risks\n",
        "            st.subheader(\"Key Risks\")\n",
        "            for risk in report['risks']:\n",
        "                st.warning(risk)\n",
        "\n",
        "            # Workflow demonstration\n",
        "            with st.expander(\"🔄 Workflow Patterns Demonstrated\"):\n",
        "                st.write(\"**1. Prompt Chaining (News Processing):**\")\n",
        "                st.write(f\"• Classified as: {news_data['classification']}\")\n",
        "                st.write(f\"• Extracted: {news_data['key_info'][:100]}...\")\n",
        "                st.write(f\"• Summary: {news_data['summary']}\")\n",
        "\n",
        "                st.write(\"\\n**2. Routing (Analysis):**\")\n",
        "                st.write(f\"• Routed to: {analysis['routed_to']} specialist\")\n",
        "\n",
        "                st.write(\"\\n**3. Evaluator-Optimizer:**\")\n",
        "                if 'evaluation' in analysis['optimized_analysis']:\n",
        "                    st.write(f\"• {analysis['optimized_analysis']['evaluation'][:150]}...\")\n",
        "\n",
        "                st.write(\"\\n**4. Self-Reflection:**\")\n",
        "                st.write(f\"• Data Quality: {stock_data['reflection']}\")\n",
        "                st.write(f\"• Report Score: {report['quality_score']}/10\")\n",
        "\n",
        "            with st.expander(\"🧾 Full Report JSON\"):\n",
        "                st.json(report)\n",
        "                st.json(stock_data)\n",
        "\n",
        "        except Exception as e:\n",
        "            st.error(f\"Error: {str(e)}\")\n",
        "\n",
        "if __name__ == \"__main__\":\n",
        "\n",
        "    main()"
      ],
      "metadata": {
        "colab": {
          "base_uri": "https://localhost:8080/"
        },
        "id": "QjpPtdeYTzss",
        "outputId": "8262f63a-da2d-48d6-b0b1-1f1cb9a9fbec"
      },
      "execution_count": 15,
      "outputs": [
        {
          "output_type": "stream",
          "name": "stderr",
          "text": [
            "2025-10-17 23:02:09.398 Thread 'MainThread': missing ScriptRunContext! This warning can be ignored when running in bare mode.\n",
            "2025-10-17 23:02:09.401 Thread 'MainThread': missing ScriptRunContext! This warning can be ignored when running in bare mode.\n",
            "2025-10-17 23:02:09.402 Thread 'MainThread': missing ScriptRunContext! This warning can be ignored when running in bare mode.\n",
            "2025-10-17 23:02:09.402 Thread 'MainThread': missing ScriptRunContext! This warning can be ignored when running in bare mode.\n",
            "2025-10-17 23:02:09.403 Thread 'MainThread': missing ScriptRunContext! This warning can be ignored when running in bare mode.\n",
            "2025-10-17 23:02:09.404 Thread 'MainThread': missing ScriptRunContext! This warning can be ignored when running in bare mode.\n",
            "2025-10-17 23:02:09.404 Thread 'MainThread': missing ScriptRunContext! This warning can be ignored when running in bare mode.\n",
            "2025-10-17 23:02:09.404 Thread 'MainThread': missing ScriptRunContext! This warning can be ignored when running in bare mode.\n",
            "2025-10-17 23:02:09.406 Thread 'MainThread': missing ScriptRunContext! This warning can be ignored when running in bare mode.\n",
            "2025-10-17 23:02:09.406 Thread 'MainThread': missing ScriptRunContext! This warning can be ignored when running in bare mode.\n",
            "2025-10-17 23:02:09.406 Thread 'MainThread': missing ScriptRunContext! This warning can be ignored when running in bare mode.\n",
            "2025-10-17 23:02:09.407 Thread 'MainThread': missing ScriptRunContext! This warning can be ignored when running in bare mode.\n",
            "2025-10-17 23:02:09.407 Thread 'MainThread': missing ScriptRunContext! This warning can be ignored when running in bare mode.\n",
            "2025-10-17 23:02:09.408 Thread 'MainThread': missing ScriptRunContext! This warning can be ignored when running in bare mode.\n",
            "2025-10-17 23:02:09.409 Thread 'MainThread': missing ScriptRunContext! This warning can be ignored when running in bare mode.\n",
            "2025-10-17 23:02:09.409 Thread 'MainThread': missing ScriptRunContext! This warning can be ignored when running in bare mode.\n",
            "2025-10-17 23:02:09.410 Thread 'MainThread': missing ScriptRunContext! This warning can be ignored when running in bare mode.\n"
          ]
        }
      ]
    },
    {
      "cell_type": "code",
      "source": [
        "!streamlit run /usr/local/lib/python3.12/dist-packages/colab_kernel_launcher.py\n"
      ],
      "metadata": {
        "colab": {
          "base_uri": "https://localhost:8080/"
        },
        "id": "Y8cLaD1ST8Zt",
        "outputId": "3c0e2f17-4b2b-444f-bc89-b0919a410147"
      },
      "execution_count": 20,
      "outputs": [
        {
          "output_type": "stream",
          "name": "stdout",
          "text": [
            "\n",
            "Collecting usage statistics. To deactivate, set browser.gatherUsageStats to false.\n",
            "\u001b[0m\n",
            "\u001b[0m\n",
            "\u001b[34m\u001b[1m  You can now view your Streamlit app in your browser.\u001b[0m\n",
            "\u001b[0m\n",
            "\u001b[34m  Local URL: \u001b[0m\u001b[1mhttp://localhost:8501\u001b[0m\n",
            "\u001b[34m  Network URL: \u001b[0m\u001b[1mhttp://172.28.0.12:8501\u001b[0m\n",
            "\u001b[34m  External URL: \u001b[0m\u001b[1mhttp://104.198.55.241:8501\u001b[0m\n",
            "\u001b[0m\n",
            "\u001b[34m  Stopping...\u001b[0m\n",
            "\u001b[34m  Stopping...\u001b[0m\n"
          ]
        }
      ]
    },
    {
      "cell_type": "markdown",
      "source": [
        "### Streamlit front-end for the Investment Research Agent\n",
        "\n",
        "This script builds a **Streamlit dashboard** that runs the entire multi-agent pipeline through an interactive web interface.\n",
        "When a user enters a stock symbol (e.g., “AAPL”) and clicks **Analyze**, the app:\n",
        "\n",
        "1. **Initializes the agents**\n",
        "\n",
        "   * Creates a shared `ChatOpenAI` model (`gpt-4o-mini`, temp = 0 for reproducibility).\n",
        "   * Instantiates the three backend agents:\n",
        "\n",
        "     * `DataAgent` → collects market & news data.\n",
        "     * `AnalysisAgent` → routes analysis type, evaluates, and refines results.\n",
        "     * `ReportAgent` → generates a complete investment report and self-reflection score.\n",
        "\n",
        "2. **Runs the workflow in three stages**\n",
        "\n",
        "   * **Collecting data:** uses `yfinance` and `NewsAPI` to gather 5-day market data and ~5 news headlines.\n",
        "   * **Analyzing:** routes the task (fundamental, technical, earnings, etc.), evaluates the quality of the analysis, and refines it when needed.\n",
        "   * **Generating report:** builds a structured output with summary, recommendation, risks, and quality score.\n",
        "\n",
        "3. **Displays results in an organized layout**\n",
        "\n",
        "   * **Executive Summary:** short LLM-generated overview.\n",
        "   * **Price Chart:** 6-month close-price trend (using `matplotlib`).\n",
        "   * **News Chain:** visualizes the *Prompt Chaining* steps\n",
        "     *(Ingest → Preprocess → Classify → Extract → Summarize)* and shows aggregate sentiment.\n",
        "   * **Routing & Evaluator–Optimizer:** reveals which route the analysis took, the evaluation feedback, and the refined text—explicitly demonstrating the *Evaluator–Optimizer* pattern.\n",
        "   * **Metrics columns:** quick view of price, change %, P/E ratio, sentiment, and analysis type.\n",
        "   * **Recommendation & Risks:** concise investment call with two risk statements.\n",
        "   * **Workflow Patterns Demonstrated** expander summarizes all rubric-required patterns:\n",
        "\n",
        "     1. Prompt Chaining\n",
        "     2. Routing\n",
        "     3. Evaluator–Optimizer\n",
        "     4. Self-Reflection (data quality + report score).\n",
        "   * **Full Report JSON:** shows raw structured output for transparency.\n",
        "\n",
        "4. **Error handling & UX**\n",
        "\n",
        "   * Uses `st.spinner()` for progress indicators.\n",
        "   * Displays success/error messages cleanly.\n",
        "   * Keeps a placeholder for future “memory” integration if the orchestrator is later wired in.\n",
        "\n",
        "---\n",
        "\n",
        "### Why it matters\n",
        "\n",
        "This front-end provides a **visual demonstration** of all four required workflow patterns and agent functions in a single, interactive interface:\n",
        "\n",
        "* The app routes tasks autonomously.\n",
        "* It reflects on quality via evaluation scores.\n",
        "* It visualizes the entire reasoning chain.\n",
        "* It outputs a clear, human-readable report."
      ],
      "metadata": {
        "id": "iH9e_Q7-fsLn"
      }
    },
    {
      "cell_type": "markdown",
      "source": [
        "# 4. Steps and Explanations"
      ],
      "metadata": {
        "id": "Vp3Ax0Ozdu_u"
      }
    },
    {
      "cell_type": "markdown",
      "source": [
        "## 4.1 Initialize LLM + agents"
      ],
      "metadata": {
        "id": "RXZoLgH_d6qE"
      }
    },
    {
      "cell_type": "code",
      "source": [
        "SYMBOL = \"AAPL\"  # change as needed\n",
        "MODEL = \"gpt-4o-mini\"  # or gpt-4o\n",
        "\n",
        "llm = ChatOpenAI(openai_api_key=OPENAI_API_KEY, model_name=MODEL, temperature=0)\n",
        "\n",
        "data_agent = DataAgent(llm)\n",
        "analysis_agent = AnalysisAgent(llm)\n",
        "report_agent = ReportAgent(llm)\n"
      ],
      "metadata": {
        "id": "dvds2gdzaau1"
      },
      "execution_count": 19,
      "outputs": []
    },
    {
      "cell_type": "markdown",
      "source": [
        "## 4.2 DataAgent: stock data"
      ],
      "metadata": {
        "id": "S1wpTu4jeAXZ"
      }
    },
    {
      "cell_type": "markdown",
      "source": [
        "collects price, 5-day % change, volume, P/E, market cap, and a self-check note."
      ],
      "metadata": {
        "id": "o8ESDodUeIpD"
      }
    },
    {
      "cell_type": "code",
      "source": [
        "stock_data = data_agent.collect_stock_data(SYMBOL)\n",
        "stock_data\n"
      ],
      "metadata": {
        "colab": {
          "base_uri": "https://localhost:8080/"
        },
        "id": "JzLPaHftam-b",
        "outputId": "914d4e8f-008c-41ea-c647-3b155f673679"
      },
      "execution_count": 21,
      "outputs": [
        {
          "output_type": "execute_result",
          "data": {
            "text/plain": [
              "{'symbol': 'AAPL',\n",
              " 'price': np.float64(252.29),\n",
              " 'change': np.float64(1.87),\n",
              " 'volume': 48839918,\n",
              " 'pe_ratio': 38.34,\n",
              " 'market_cap': 3744081903616,\n",
              " 'reflection': '✅ All data collected successfully'}"
            ]
          },
          "metadata": {},
          "execution_count": 21
        }
      ]
    },
    {
      "cell_type": "markdown",
      "source": [
        "## 4.3 DataAgent: news prompt chain"
      ],
      "metadata": {
        "id": "szbq6eRoeK4K"
      }
    },
    {
      "cell_type": "markdown",
      "source": [
        "Ingest → Preprocess → Classify → Extract → Summarize on ~5 headlines."
      ],
      "metadata": {
        "id": "3MjaZPzdePKz"
      }
    },
    {
      "cell_type": "code",
      "source": [
        "news_data = data_agent.collect_news(SYMBOL)\n",
        "{\n",
        "    \"articles_used\": news_data[\"news_count\"],\n",
        "    \"aggregate_sentiment\": news_data[\"classification\"],\n",
        "    \"summary\": news_data[\"summary\"][:240] + (\"...\" if len(news_data[\"summary\"])>240 else \"\")\n",
        "}\n"
      ],
      "metadata": {
        "colab": {
          "base_uri": "https://localhost:8080/"
        },
        "id": "jDVcirogar-t",
        "outputId": "aad0e415-78ff-4847-9148-0f242c0e102f"
      },
      "execution_count": 22,
      "outputs": [
        {
          "output_type": "execute_result",
          "data": {
            "text/plain": [
              "{'articles_used': 5,\n",
              " 'aggregate_sentiment': 'negative',\n",
              " 'summary': \"The combination of potential tariff relief for the auto industry, declining global markets due to geopolitical tensions, and analyst skepticism about Apple's foldable phone impact suggests that AAPL may experience increased volatility and d...\"}"
            ]
          },
          "metadata": {},
          "execution_count": 22
        }
      ]
    },
    {
      "cell_type": "code",
      "source": [
        "example = {\n",
        "    \"example_headline\": news_data[\"news\"][0] if isinstance(news_data[\"news\"], list) and news_data[\"news\"] else news_data.get(\"news\"),\n",
        "    \"example_classification\": news_data.get(\"per_item_classifications\", [None])[0],\n",
        "    \"example_key_info\": (news_data.get(\"key_info\",[None])[0] or \"\")[:200]\n",
        "}\n",
        "example\n"
      ],
      "metadata": {
        "colab": {
          "base_uri": "https://localhost:8080/"
        },
        "id": "Ag4PTJmWa05D",
        "outputId": "36531fa5-71ae-49ea-fbda-c854662f3f17"
      },
      "execution_count": 23,
      "outputs": [
        {
          "output_type": "execute_result",
          "data": {
            "text/plain": [
              "{'example_headline': 'Trump tariffs live updates: White House nears tariff relief for auto industry; US deficit falls in first drop since COVID',\n",
              " 'example_classification': 'The sentiment of the headline can be classified as positive. It highlights potential tariff relief for the auto industry and mentions a decrease in the US deficit, both of which are generally viewed as favorable developments.',\n",
              " 'example_key_info': 'The White House is nearing tariff relief for the auto industry.'}"
            ]
          },
          "metadata": {},
          "execution_count": 23
        }
      ]
    },
    {
      "cell_type": "markdown",
      "source": [
        "## 4.4 AnalysisAgent: routing + evaluator → optimizer\n"
      ],
      "metadata": {
        "id": "73U9NHoSeSJ7"
      }
    },
    {
      "cell_type": "markdown",
      "source": [
        "routes to a specialist, evaluates quality, and refines when score < threshold."
      ],
      "metadata": {
        "id": "m7OVd-CJea-i"
      }
    },
    {
      "cell_type": "code",
      "source": [
        "import regex as re\n",
        "analysis = analysis_agent.analyze(stock_data, news_data)\n",
        "score_match = re.search(r\"Score:\\s*(\\d{1,2})\\s*/\\s*10\", analysis[\"optimized_analysis\"][\"evaluation\"])\n",
        "score = int(score_match.group(1)) if score_match else None\n",
        "\n",
        "display_dict = {\n",
        "    \"routed_to\": analysis[\"routed_to\"],\n",
        "    \"initial_analysis\": analysis[\"initial_analysis\"],\n",
        "    \"evaluation\": analysis[\"optimized_analysis\"][\"evaluation\"][:600],\n",
        "    \"score_parsed\": score\n",
        "}\n",
        "display_dict\n"
      ],
      "metadata": {
        "colab": {
          "base_uri": "https://localhost:8080/"
        },
        "id": "fEj0ii7ma32q",
        "outputId": "4aa242e5-2eaf-443e-c54c-987d21333466"
      },
      "execution_count": 25,
      "outputs": [
        {
          "output_type": "execute_result",
          "data": {
            "text/plain": [
              "{'routed_to': 'fundamental',\n",
              " 'initial_analysis': {'type': 'fundamental',\n",
              "  'valuation': 'Overvalued',\n",
              "  'pe_ratio': 38.34,\n",
              "  'market_cap': 3744081903616,\n",
              "  'recent_change_pct': np.float64(1.87),\n",
              "  'news_sentiment': 'negative'},\n",
              " 'evaluation': 'Score: 6/10. Feedback: \\n\\n1. **Depth of Analysis**: The analysis identifies that the stock is overvalued based on a high P/E ratio of 38.34, which is a good starting point. However, it lacks a comparative analysis with industry peers or historical averages to provide context for this valuation. Including such comparisons would strengthen the argument regarding whether the stock is truly overvalued.\\n\\n2. **Reasoning**: While the negative news sentiment is mentioned, the analysis does not elaborate on the specific news or events contributing to this sentiment. Providing details about the nature of',\n",
              " 'score_parsed': 6}"
            ]
          },
          "metadata": {},
          "execution_count": 25
        }
      ]
    },
    {
      "cell_type": "markdown",
      "source": [
        "2–3 lines: explain why routing chose that path (content-based first; fallback to fundamentals vs technicals).\n",
        "\n",
        "1 line: evaluator saw full context (stock + news), and refinement returns improved rationale/considerations."
      ],
      "metadata": {
        "id": "ByrBtduueodT"
      }
    },
    {
      "cell_type": "markdown",
      "source": [
        "## 4.5 ReportAgent: final report + price chart"
      ],
      "metadata": {
        "id": "c5ye6l-mei8e"
      }
    },
    {
      "cell_type": "markdown",
      "source": [
        "generates a structured report and renders a simple 6-month price chart."
      ],
      "metadata": {
        "id": "8n-oZSk5eva4"
      }
    },
    {
      "cell_type": "code",
      "source": [
        "opt_final = analysis[\"optimized_analysis\"][\"final\"]\n",
        "opt_final.get(\"refined_text\", \"(no refinement applied)\")\n"
      ],
      "metadata": {
        "colab": {
          "base_uri": "https://localhost:8080/",
          "height": 140
        },
        "id": "8R7fUlTObBj_",
        "outputId": "e750258d-f432-4fa4-f7cf-0664609354f6"
      },
      "execution_count": 26,
      "outputs": [
        {
          "output_type": "execute_result",
          "data": {
            "text/plain": [
              "'```json\\n{\\n    \"type\": \"fundamental\",\\n    \"valuation\": \"Overvalued\",\\n    \"rationale\": \"With a P/E ratio of 38.34, AAPL is significantly above the industry average of approximately 25, indicating overvaluation. The recent negative news sentiment suggests potential headwinds, possibly linked to disappointing earnings or market conditions, which could further pressure the stock. This combination of high valuation and negative sentiment warrants caution.\",\\n    \"considerations\": [\\n        \"Peer P/E ratio ~25\",\\n        \"Monitor upcoming earnings guidance\",\\n        \"Potential macroeconomic risks affecting consumer spending\"\\n    ]\\n}\\n```'"
            ],
            "application/vnd.google.colaboratory.intrinsic+json": {
              "type": "string"
            }
          },
          "metadata": {},
          "execution_count": 26
        }
      ]
    },
    {
      "cell_type": "code",
      "source": [
        "report = report_agent.create_report(SYMBOL, stock_data, analysis, news_data)\n",
        "{\n",
        "    \"summary\": report[\"summary\"],\n",
        "    \"data_overview\": report[\"data_overview\"],\n",
        "    \"recommendation\": report[\"recommendation\"],\n",
        "    \"risks\": report[\"risks\"],\n",
        "    \"quality_score\": report[\"quality_score\"],\n",
        "    \"critique\": report.get(\"critique\")\n",
        "}\n"
      ],
      "metadata": {
        "colab": {
          "base_uri": "https://localhost:8080/"
        },
        "id": "ZWPhxgzlbEHy",
        "outputId": "9342fa72-968d-4c90-f434-613510633340"
      },
      "execution_count": 27,
      "outputs": [
        {
          "output_type": "execute_result",
          "data": {
            "text/plain": [
              "{'summary': 'Apple Inc. (AAPL) experienced a price increase of 1.87%, despite being considered overvalued with a P/E ratio of 38.34 and a market capitalization of approximately $3.74 trillion. The recent news sentiment surrounding the company is negative, which may impact investor confidence moving forward.',\n",
              " 'data_overview': {'current_price': '$252.29',\n",
              "  'change_percent': '1.87%',\n",
              "  'pe_ratio': 38.34,\n",
              "  'volume': '48,839,918'},\n",
              " 'recommendation': 'SELL: The stock is overvalued with a high P/E ratio and negative news sentiment, indicating potential downside risk.',\n",
              " 'risks': [\"1. **Market Volatility**: Fluctuations in the stock market can significantly impact AAPL's share price, influenced by broader economic conditions and investor sentiment.\",\n",
              "  \"2. **Supply Chain Disruptions**: AAPL's reliance on global supply chains for components and manufacturing can lead to production delays and increased costs due to geopolitical tensions or natural disasters.\"],\n",
              " 'quality_score': 10,\n",
              " 'critique': \"The report provides a concise overview of Apple Inc.'s current stock performance and valuation metrics, but it lacks depth in its analysis of the negative news sentiment and its potential implications for future performance. Additionally, w\"}"
            ]
          },
          "metadata": {},
          "execution_count": 27
        }
      ]
    },
    {
      "cell_type": "markdown",
      "source": [
        "Tie quality_score to the self-reflection rubric (summary/reco/risks/data presence).\n",
        "\n",
        "Mention visual evidence via chart."
      ],
      "metadata": {
        "id": "1lYphJ3rez03"
      }
    },
    {
      "cell_type": "code",
      "source": [
        "hist = yf.Ticker(SYMBOL).history(period=\"6mo\")\n",
        "fig, ax = plt.subplots()\n",
        "hist[\"Close\"].plot(ax=ax)\n",
        "ax.set_title(f\"{SYMBOL} — 6M Close\"); ax.set_xlabel(\"Date\"); ax.set_ylabel(\"Price\")\n",
        "plt.show()\n"
      ],
      "metadata": {
        "colab": {
          "base_uri": "https://localhost:8080/",
          "height": 455
        },
        "id": "GYloNqLjbHla",
        "outputId": "2ad454cb-1d7a-4d7b-faef-d711d69ff675"
      },
      "execution_count": 28,
      "outputs": [
        {
          "output_type": "display_data",
          "data": {
            "text/plain": [
              "<Figure size 640x480 with 1 Axes>"
            ],
            "image/png": "[encoded data removed]"
          },
          "metadata": {}
        }
      ]
    },
    {
      "cell_type": "markdown",
      "source": [
        "## 4.6 Orchestrator: one-call end-to-end + memory"
      ],
      "metadata": {
        "id": "qBcBplXye1x5"
      }
    },
    {
      "cell_type": "markdown",
      "source": [
        "shows planning, full run, reflection, and “learns across runs” note."
      ],
      "metadata": {
        "id": "K2kLExSDe6tJ"
      }
    },
    {
      "cell_type": "code",
      "source": [
        "orchestrator = OrchestratorAgent(llm)\n",
        "result = orchestrator.execute_research(SYMBOL)\n",
        "{\n",
        "    \"plan_head\": result[\"plan\"][:3],\n",
        "    \"reflection\": result[\"reflection\"],\n",
        "    \"memory_note\": result[\"memory\"][\"next_time_focus\"]\n",
        "}\n"
      ],
      "metadata": {
        "colab": {
          "base_uri": "https://localhost:8080/"
        },
        "id": "3nUv7gOKbLg6",
        "outputId": "1fd4b9fe-d403-4920-aa13-fda76e69af27"
      },
      "execution_count": 33,
      "outputs": [
        {
          "output_type": "execute_result",
          "data": {
            "text/plain": [
              "{'plan_head': ['### Research Plan for AAPL (Apple Inc.)',\n",
              "  '1. **What Data to Collect**',\n",
              "  \"   - **Financial Statements**: Collect the latest quarterly and annual reports (10-Q and 10-K) from the SEC's EDGAR database, focusing on revenue, net income, earnings per share (EPS), and cash flow statements.\"],\n",
              " 'reflection': '### Evaluation of Workflow Execution\\n\\n#### What Went Well:\\n1. **Clarity of Purpose**: The research plan clearly outlines the objective, which is to gather financial data for Apple Inc. (AAPL). This fo',\n",
              " 'memory_note': \"Next time, focus on incorporating a comparative analysis of AAPL's performance against key competitors in the tech sector to provide a clearer context for its market position and growth potential.\"}"
            ]
          },
          "metadata": {},
          "execution_count": 33
        }
      ]
    },
    {
      "cell_type": "markdown",
      "source": [
        "This demonstrates planning + reflection on the workflow + persistence (next_time_focus)."
      ],
      "metadata": {
        "id": "H77KyXFPfB7q"
      }
    },
    {
      "cell_type": "markdown",
      "source": [
        "## 4.7 Save artifacts for appendix / PDF"
      ],
      "metadata": {
        "id": "xN9JGx5jfKuf"
      }
    },
    {
      "cell_type": "code",
      "source": [
        "artifacts = {\n",
        "    \"symbol\": SYMBOL,\n",
        "    \"stock_data\": stock_data,\n",
        "    \"news_data\": {k: (news_data[k] if k!=\"news\" else news_data[\"news\"][:5]) for k in news_data},  # trim\n",
        "    \"analysis\": analysis,\n",
        "    \"report\": report\n",
        "}\n",
        "with open(f\"{SYMBOL}_artifacts.json\", \"w\") as f:\n",
        "    json.dump(artifacts, f, indent=2)\n",
        "f\"{SYMBOL}_artifacts.json saved\"\n"
      ],
      "metadata": {
        "colab": {
          "base_uri": "https://localhost:8080/",
          "height": 35
        },
        "id": "FyoDfOdkbfzL",
        "outputId": "ba4f3e4c-08a4-4cc7-9f70-ef75858b265a"
      },
      "execution_count": 34,
      "outputs": [
        {
          "output_type": "execute_result",
          "data": {
            "text/plain": [
              "'AAPL_artifacts.json saved'"
            ],
            "application/vnd.google.colaboratory.intrinsic+json": {
              "type": "string"
            }
          },
          "metadata": {},
          "execution_count": 34
        }
      ]
    },
    {
      "cell_type": "markdown",
      "source": [
        "# 5. Summary and Conclusions"
      ],
      "metadata": {
        "id": "ZQr8eiOdgG3I"
      }
    },
    {
      "cell_type": "markdown",
      "source": [
        "This notebook presented the development and demonstration of a **multi-agent investment research system** powered by agentic AI. The system was designed to emulate the structure and reasoning patterns of professional financial analysis workflows using autonomous agents that can plan, act, and self-reflect. The implementation satisfied all major rubric components — **Agent Functions**, **Workflow Patterns**, and **Code Execution** — while integrating practical data sources and LLM reasoning.\n",
        "\n",
        "### Summary of Workflow\n",
        "\n",
        "1. **Data Collection (DataAgent):**\n",
        "\n",
        "   * Retrieved live market data from *Yahoo Finance* and recent financial headlines from *NewsAPI*.\n",
        "   * Performed automated *prompt chaining* to preprocess, classify, extract, and summarize key news insights.\n",
        "\n",
        "2. **Analysis (AnalysisAgent):**\n",
        "\n",
        "   * Implemented *routing logic* to dynamically choose the appropriate analysis type (fundamental, technical, or topic-specific).\n",
        "   * Used an *Evaluator–Optimizer loop* to critique and refine analyses through an LLM-driven quality feedback mechanism.\n",
        "   * Incorporated both stock metrics and sentiment data to strengthen contextual reasoning.\n",
        "\n",
        "3. **Report Generation (ReportAgent):**\n",
        "\n",
        "   * Produced a structured investment report summarizing data, analysis, recommendations, and risks.\n",
        "   * Added *self-evaluation* heuristics and an LLM critique to reflect on report completeness and accuracy.\n",
        "\n",
        "4. **Orchestration (OrchestratorAgent):**\n",
        "\n",
        "   * Coordinated all agents end-to-end through a unified workflow.\n",
        "   * Generated a *research plan*, reflected on overall workflow quality, and stored a “next-time-focus” note to simulate learning across runs.\n",
        "\n",
        "5. **Visualization (Streamlit Interface):**\n",
        "\n",
        "   * The companion Streamlit app provided an intuitive front-end to run and visualize all workflow stages — including price trends, sentiment analysis, routing paths, and evaluation feedback — fulfilling the project’s interpretability and transparency goals.\n",
        "\n",
        "### Key Findings\n",
        "\n",
        "* The system successfully automated an end-to-end investment analysis process, demonstrating reasoning, planning, and reflection beyond static pipelines.\n",
        "* The evaluator–optimizer mechanism produced richer, more human-like insights, showing measurable improvement in rationale clarity and contextual grounding.\n",
        "* The addition of heuristic scoring and LLM self-critique improved model transparency and interpretability.\n",
        "* Integrating multiple workflows (prompt chaining, routing, evaluation, reflection) into one cohesive framework proved both robust and explainable.\n",
        "\n",
        "### Limitations and Future Work\n",
        "\n",
        "* The system relies on public APIs (Yahoo Finance, NewsAPI), which may have latency or rate limits.\n",
        "* While LLM reasoning adds qualitative depth, it can introduce factual uncertainty if prompts are not constrained.\n",
        "* Future improvements could include incorporating **real financial ratios**, **peer comparison data**, and **fine-tuned domain-specific models** for increased reliability.\n",
        "\n",
        "### Conclusion\n",
        "\n",
        "This project successfully demonstrates an **agentic AI system for financial research** capable of autonomous planning, reasoning, and reflection. The notebook shows that by coordinating specialized agents — for data collection, analysis, reporting, and orchestration — an LLM-driven system can perform complex, multi-stage financial analysis transparently and reproducibly.\n",
        "Overall, the framework aligns with the course’s objective of bridging **AI reasoning patterns** with **real-world financial intelligence**, and provides a solid foundation for future expansion into more advanced decision-support tools.\n",
        "\n"
      ],
      "metadata": {
        "id": "VcL6Ne4kgLcT"
      }
    }
  ]
}